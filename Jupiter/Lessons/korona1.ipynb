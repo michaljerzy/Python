{
 "cells": [
  {
   "cell_type": "markdown",
   "metadata": {},
   "source": [
    "Analiza danych koronawirusa z Polski"
   ]
  },
  {
   "cell_type": "code",
   "execution_count": 14,
   "metadata": {},
   "outputs": [],
   "source": [
    "import numpy as np\n",
    "import pandas as pd"
   ]
  },
  {
   "cell_type": "code",
   "execution_count": 18,
   "metadata": {},
   "outputs": [
    {
     "name": "stdout",
     "output_type": "stream",
     "text": [
      "    dzień  całkowita liczba zakażeń\n",
      "0       1                       104\n",
      "1       2                       125\n",
      "2       3                       177\n",
      "3       4                       238\n",
      "4       5                       287\n",
      "5       6                       355\n",
      "6       7                       425\n",
      "7       8                       536\n",
      "8       9                       634\n",
      "9      10                       749\n",
      "10     11                       901\n",
      "11     12                      1051\n",
      "12     13                      1221\n",
      "13     14                      1389\n",
      "14     15                      1638\n",
      "15     16                      1862\n",
      "16     17                      2055\n",
      "17     18                      2311\n",
      "18     19                      2554\n",
      "19     20                      2946\n",
      "20     21                      3383\n",
      "21     22                      3627\n",
      "22     23                      4102\n",
      "23     24                      4413\n",
      "24     25                      4848\n",
      "25     26                      5205\n",
      "26     27                      5575\n",
      "27     28                      5955\n",
      "28     29                      6356\n",
      "29     30                      6674\n",
      "30     31                      6934\n",
      "31     32                      7202\n",
      "32     33                      7582\n",
      "33     34                      7918\n",
      "34     35                      8379\n",
      "35     36                      8742\n"
     ]
    }
   ],
   "source": [
    "data= pd.read_csv('zachorowania.csv')\n",
    "data.columns=['dzień','całkowita liczba zakażeń']#, 'nowe zakażenia', 'wzrost %']\n",
    "print(data)"
   ]
  },
  {
   "cell_type": "code",
   "execution_count": 19,
   "metadata": {},
   "outputs": [
    {
     "name": "stdout",
     "output_type": "stream",
     "text": [
      "[ 104  125  177  238  287  355  425  536  634  749  901 1051 1221 1389\n",
      " 1638 1862 2055 2311 2554 2946 3383 3627 4102 4413 4848 5205 5575 5955\n",
      " 6356 6674 6934 7202 7582 7918 8379 8742]\n"
     ]
    }
   ],
   "source": [
    "zakazenia= np.array(data['całkowita liczba zakażeń'])\n",
    "print(zakazenia)"
   ]
  },
  {
   "cell_type": "code",
   "execution_count": 20,
   "metadata": {},
   "outputs": [
    {
     "name": "stdout",
     "output_type": "stream",
     "text": [
      "[ nan  21.  52.  61.  49.  68.  70. 111.  98. 115. 152. 150. 170. 168.\n",
      " 249. 224. 193. 256. 243. 392. 437. 244. 475. 311. 435. 357. 370. 380.\n",
      " 401. 318. 260. 268. 380. 336. 461. 363.]\n"
     ]
    }
   ],
   "source": [
    "noweZakazenia = np.array([np.nan])\n",
    "for i in range(1,zakazenia.size):\n",
    "    noweZakazenia=np.append(noweZakazenia,zakazenia[i]-zakazenia[i-1])\n",
    "print(noweZakazenia)"
   ]
  },
  {
   "cell_type": "code",
   "execution_count": null,
   "metadata": {},
   "outputs": [],
   "source": []
  },
  {
   "cell_type": "code",
   "execution_count": 21,
   "metadata": {},
   "outputs": [
    {
     "name": "stdout",
     "output_type": "stream",
     "text": [
      "[ nan  21.  52.  61.  49.  68.  70. 111.  98. 115. 152. 150. 170. 168.\n",
      " 249. 224. 193. 256. 243. 392. 437. 244. 475. 311. 435. 357. 370. 380.\n",
      " 401. 318. 260. 268. 380. 336. 461. 363.]\n"
     ]
    }
   ],
   "source": [
    "print(noweZakazenia)"
   ]
  },
  {
   "cell_type": "code",
   "execution_count": 22,
   "metadata": {},
   "outputs": [
    {
     "name": "stdout",
     "output_type": "stream",
     "text": [
      "[        nan 16.8        29.37853107 25.6302521  17.07317073 19.15492958\n",
      " 16.47058824 20.70895522 15.45741325 15.35380507 16.87014428 14.27212179\n",
      " 13.92301392 12.0950324  15.2014652  12.03007519  9.39172749 11.07745565\n",
      "  9.51448708 13.30617787 12.91752882  6.72732286 11.57971721  7.04736007\n",
      "  8.97277228  6.85878963  6.6367713   6.38119228  6.30899937  4.76475877\n",
      "  3.74963946  3.72118856  5.01187022  4.24349583  5.50184986  4.15236788]\n"
     ]
    }
   ],
   "source": [
    "procZakazen=noweZakazenia/zakazenia*100\n",
    "print(procZakazen)"
   ]
  },
  {
   "cell_type": "code",
   "execution_count": 23,
   "metadata": {},
   "outputs": [
    {
     "data": {
      "text/plain": [
       "pandas.core.frame.DataFrame"
      ]
     },
     "execution_count": 23,
     "metadata": {},
     "output_type": "execute_result"
    }
   ],
   "source": [
    "type(data)"
   ]
  },
  {
   "cell_type": "code",
   "execution_count": 24,
   "metadata": {},
   "outputs": [
    {
     "name": "stdout",
     "output_type": "stream",
     "text": [
      "    nowe Zakazenia  procent Zakazen\n",
      "0              NaN              NaN\n",
      "1             21.0        16.800000\n",
      "2             52.0        29.378531\n",
      "3             61.0        25.630252\n",
      "4             49.0        17.073171\n",
      "5             68.0        19.154930\n",
      "6             70.0        16.470588\n",
      "7            111.0        20.708955\n",
      "8             98.0        15.457413\n",
      "9            115.0        15.353805\n",
      "10           152.0        16.870144\n",
      "11           150.0        14.272122\n",
      "12           170.0        13.923014\n",
      "13           168.0        12.095032\n",
      "14           249.0        15.201465\n",
      "15           224.0        12.030075\n",
      "16           193.0         9.391727\n",
      "17           256.0        11.077456\n",
      "18           243.0         9.514487\n",
      "19           392.0        13.306178\n",
      "20           437.0        12.917529\n",
      "21           244.0         6.727323\n",
      "22           475.0        11.579717\n",
      "23           311.0         7.047360\n",
      "24           435.0         8.972772\n",
      "25           357.0         6.858790\n",
      "26           370.0         6.636771\n",
      "27           380.0         6.381192\n",
      "28           401.0         6.308999\n",
      "29           318.0         4.764759\n",
      "30           260.0         3.749639\n",
      "31           268.0         3.721189\n",
      "32           380.0         5.011870\n",
      "33           336.0         4.243496\n",
      "34           461.0         5.501850\n",
      "35           363.0         4.152368\n"
     ]
    }
   ],
   "source": [
    "data2=pd.DataFrame({'nowe Zakazenia':noweZakazenia,'procent Zakazen':procZakazen})\n",
    "print(data2)"
   ]
  },
  {
   "cell_type": "code",
   "execution_count": 25,
   "metadata": {},
   "outputs": [
    {
     "name": "stdout",
     "output_type": "stream",
     "text": [
      "    dzień  całkowita liczba zakażeń  nowe Zakazenia  procent Zakazen\n",
      "0       1                       104             NaN              NaN\n",
      "1       2                       125            21.0        16.800000\n",
      "2       3                       177            52.0        29.378531\n",
      "3       4                       238            61.0        25.630252\n",
      "4       5                       287            49.0        17.073171\n",
      "5       6                       355            68.0        19.154930\n",
      "6       7                       425            70.0        16.470588\n",
      "7       8                       536           111.0        20.708955\n",
      "8       9                       634            98.0        15.457413\n",
      "9      10                       749           115.0        15.353805\n",
      "10     11                       901           152.0        16.870144\n",
      "11     12                      1051           150.0        14.272122\n",
      "12     13                      1221           170.0        13.923014\n",
      "13     14                      1389           168.0        12.095032\n",
      "14     15                      1638           249.0        15.201465\n",
      "15     16                      1862           224.0        12.030075\n",
      "16     17                      2055           193.0         9.391727\n",
      "17     18                      2311           256.0        11.077456\n",
      "18     19                      2554           243.0         9.514487\n",
      "19     20                      2946           392.0        13.306178\n",
      "20     21                      3383           437.0        12.917529\n",
      "21     22                      3627           244.0         6.727323\n",
      "22     23                      4102           475.0        11.579717\n",
      "23     24                      4413           311.0         7.047360\n",
      "24     25                      4848           435.0         8.972772\n",
      "25     26                      5205           357.0         6.858790\n",
      "26     27                      5575           370.0         6.636771\n",
      "27     28                      5955           380.0         6.381192\n",
      "28     29                      6356           401.0         6.308999\n",
      "29     30                      6674           318.0         4.764759\n",
      "30     31                      6934           260.0         3.749639\n",
      "31     32                      7202           268.0         3.721189\n",
      "32     33                      7582           380.0         5.011870\n",
      "33     34                      7918           336.0         4.243496\n",
      "34     35                      8379           461.0         5.501850\n",
      "35     36                      8742           363.0         4.152368\n"
     ]
    }
   ],
   "source": [
    "data=pd.concat([data,data2],axis=1)\n",
    "print(data)"
   ]
  },
  {
   "cell_type": "code",
   "execution_count": 26,
   "metadata": {},
   "outputs": [],
   "source": [
    "import matplotlib.pylab as plt"
   ]
  },
  {
   "cell_type": "code",
   "execution_count": 27,
   "metadata": {},
   "outputs": [
    {
     "data": {
      "text/plain": [
       "[<matplotlib.lines.Line2D at 0x7fd727229dd8>]"
      ]
     },
     "execution_count": 27,
     "metadata": {},
     "output_type": "execute_result"
    },
    {
     "data": {
      "image/png": "[encoded data removed]",
      "text/plain": [
       "<Figure size 432x288 with 1 Axes>"
      ]
     },
     "metadata": {
      "needs_background": "light"
     },
     "output_type": "display_data"
    }
   ],
   "source": [
    "plt.plot(data[\"całkowita liczba zakażeń\"])"
   ]
  },
  {
   "cell_type": "code",
   "execution_count": 28,
   "metadata": {},
   "outputs": [
    {
     "data": {
      "text/plain": [
       "[<matplotlib.lines.Line2D at 0x7fd726670e80>,\n",
       " <matplotlib.lines.Line2D at 0x7fd726670908>,\n",
       " <matplotlib.lines.Line2D at 0x7fd726670518>,\n",
       " <matplotlib.lines.Line2D at 0x7fd726454128>]"
      ]
     },
     "execution_count": 28,
     "metadata": {},
     "output_type": "execute_result"
    },
    {
     "data": {
      "image/png": "[encoded data removed]",
      "text/plain": [
       "<Figure size 432x288 with 1 Axes>"
      ]
     },
     "metadata": {
      "needs_background": "light"
     },
     "output_type": "display_data"
    }
   ],
   "source": [
    "plt.plot(data)"
   ]
  },
  {
   "cell_type": "code",
   "execution_count": 30,
   "metadata": {},
   "outputs": [
    {
     "data": {
      "image/png": "[encoded data removed]",
      "text/plain": [
       "<Figure size 432x288 with 1 Axes>"
      ]
     },
     "metadata": {
      "needs_background": "light"
     },
     "output_type": "display_data"
    }
   ],
   "source": [
    "plt.plot(data[\"procent Zakazen\"])\n",
    "plt.title='procent Zakazen'\n",
    "plt.xlabel='Dni'\n"
   ]
  },
  {
   "cell_type": "code",
   "execution_count": null,
   "metadata": {},
   "outputs": [],
   "source": []
  },
  {
   "cell_type": "code",
   "execution_count": null,
   "metadata": {},
   "outputs": [],
   "source": []
  }
 ],
 "metadata": {
  "kernelspec": {
   "display_name": "Python 3",
   "language": "python",
   "name": "python3"
  },
  "language_info": {
   "codemirror_mode": {
    "name": "ipython",
    "version": 3
   },
   "file_extension": ".py",
   "mimetype": "text/x-python",
   "name": "python",
   "nbconvert_exporter": "python",
   "pygments_lexer": "ipython3",
   "version": "3.6.9"
  },
  "toc": {
   "base_numbering": 1,
   "nav_menu": {},
   "number_sections": true,
   "sideBar": true,
   "skip_h1_title": false,
   "title_cell": "Table of Contents",
   "title_sidebar": "Contents",
   "toc_cell": false,
   "toc_position": {},
   "toc_section_display": true,
   "toc_window_display": false
  }
 },
 "nbformat": 4,
 "nbformat_minor": 2
}
